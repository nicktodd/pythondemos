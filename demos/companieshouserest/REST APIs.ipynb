{
 "cells": [
  {
   "cell_type": "markdown",
   "metadata": {},
   "source": [
    "<img style=\"float: right;\" width=\"120\" src=\"../Images/supplier-logo.png\">\n",
    "<img style=\"float: left; margin-top: 0\" width=\"80\" src=\"../Images/client-logo.png\">\n",
    "<br><br><br>\n"
   ]
  },
  {
   "cell_type": "markdown",
   "metadata": {},
   "source": [
    "# What is an API?\n",
    "An API, or Application Programming Interface, is an interface to a server that allows a user or a computer program to interact with the service. <br>\n",
    "When we want to receive data from an API, we need to make a **request**, the server with an API will send a **response**. <br>\n",
    "There are millions of APIs online which provide access to data.\n"
   ]
  },
  {
   "cell_type": "markdown",
   "metadata": {},
   "source": [
    "# Why use an API ?\n",
    "Why use an API instead of a static CSV dataset you can download from the web? (which can also be automated)\n",
    "APIs are useful in the following cases:\n",
    "- **The data is changing quickly**. An example of this is stock price data. It doesn’t really make sense to regenerate a dataset and download it every minute — this will take a lot of bandwidth, and be pretty slow.\n",
    "- **You want a small piece of a much larger set of data**. Reddit comments are one example. What if you want to just pull your own comments on Reddit? It doesn’t make much sense to download the entire Reddit database, then filter just your own comments.\n",
    "- **There is repeated computation involved**. Spotify has an API that can tell you the genre of a piece of music. You could theoretically create your own classifier, and use it to compute music categories, but you’ll never have as much data as Spotify does.\n"
   ]
  },
  {
   "cell_type": "markdown",
   "metadata": {},
   "source": [
    "# Main types of API calls\n",
    "There are many many types of API calls, the most common are\n",
    "\n",
    "> `GET` – Read or download something from a web site \n",
    ">\n",
    "> `POST` – Create something on a Web site – e.g register for a new user account\n",
    ">\n",
    "> `PUT` – Update something already existing on a web site\n",
    ">\n",
    "> `DELETE` – Remote something from a web site\n",
    ">\n",
    "Alot of web sites are referred to as lo-rest – they only allow GET and POST i.e. they do not allow users to update information or delete it.\n"
   ]
  },
  {
   "cell_type": "markdown",
   "metadata": {},
   "source": [
    "# API Status Codes\n",
    "Status codes are returned with every request that is made to a web server. Status codes indicate information about what happened with a request. Here are some codes that are relevant to GET requests:\n",
    "- 200: Everything went okay, and the result has been returned (if any).\n",
    "- 301: The server is redirecting you to a different endpoint. This can happen when a company switches domain names, or an endpoint name is changed.\n",
    "- 400: The server thinks you made a bad request. This can happen when you don’t send along the right data, among other things.\n",
    "- 401: The server thinks you’re not authenticated. Many APIs require login ccredentials, so this happens when you don’t send the right credentials to access an API.\n",
    "- 403: The resource you’re trying to access is forbidden: you don’t have the right permissions to see it.\n",
    "- 404: The resource you tried to access wasn’t found on the server.\n",
    "- 503: The server is not ready to handle the request.\n",
    "You might notice that all of the status codes that begin with a ‘4’ indicate some sort of error. The first number of status codes indicate their categorization. This is useful — you can know that if your status code starts with a ‘2’ it was successful and if it starts with a ‘4’ or ‘5’ there was an error. If you’re interested you can read more about status codes here https://developer.mozilla.org/en-US/docs/Web/HTTP/Status"
   ]
  },
  {
   "cell_type": "markdown",
   "metadata": {},
   "source": [
    "# A First API Request\n",
    "Use the reqres web site https://reqres.in to practivce making good abd bad we site requests.n <BR>\n",
    "This is a free web site and is useful to practice making \n",
    "- various types of API calls - GET, PUT, POST and DELETE\n",
    "- various types of responses - 200s, 300s, 400s, 500s\n",
    "\n",
    "Import the `request` package.<br>\n",
    "Use the `get()` or `post()` function to send a **request** to a web site\n",
    "\n",
    "Process the **response**\n"
   ]
  },
  {
   "cell_type": "markdown",
   "metadata": {},
   "source": [
    "## A successful GET\n",
    "\n",
    "Call the following API call\n",
    "\n",
    "https://reqres.in/api/users?page=2"
   ]
  },
  {
   "cell_type": "code",
   "execution_count": null,
   "metadata": {},
   "outputs": [],
   "source": [
    "import pandas as pd\n",
    "import requests"
   ]
  },
  {
   "cell_type": "code",
   "execution_count": null,
   "metadata": {},
   "outputs": [],
   "source": [
    "# First attempt\n",
    "\n",
    "resp = requests.get(\"https://reqres.in/api/users?page=2\") \n",
    "\n",
    "print(resp.status_code)"
   ]
  },
  {
   "cell_type": "code",
   "execution_count": null,
   "metadata": {},
   "outputs": [],
   "source": [
    "# Pass the URL and PARAMS to the API call in \n",
    "API_ENDPOINT = \"https://reqres.in/api/users\"\n",
    "PARAMS = {'page':2} \n",
    "\n",
    "resp = requests.get(url = API_ENDPOINT, params = PARAMS) \n",
    "\n",
    "print(resp.status_code)"
   ]
  },
  {
   "cell_type": "code",
   "execution_count": null,
   "metadata": {},
   "outputs": [],
   "source": [
    "# Display the response\n",
    "\n",
    "# extracting data in json format \n",
    "js = resp.json() \n",
    "print(js)\n",
    "\n",
    "\n",
    "# Create a DataFrame of the results\n",
    "users = js['data']\n",
    "df = pd.DataFrame(data = users)\n",
    "df.head()\n"
   ]
  },
  {
   "cell_type": "markdown",
   "metadata": {},
   "source": [
    "# A successful POST"
   ]
  },
  {
   "cell_type": "code",
   "execution_count": null,
   "metadata": {},
   "outputs": [],
   "source": [
    "API_ENDPOINT = \"https://reqres.in/api/useras\"\n",
    "BODY = {\n",
    "    \"name\": \"morpheus\",\n",
    "    \"job\": \"leader\"\n",
    "}\n",
    "\n",
    "resp = requests.post(url = API_ENDPOINT, data = BODY) \n",
    "\n",
    "print(resp.status_code)\n",
    "\n",
    "js = resp.json() \n",
    "print(js)"
   ]
  },
  {
   "cell_type": "markdown",
   "metadata": {},
   "source": [
    "## An unsuccessful POST"
   ]
  },
  {
   "cell_type": "code",
   "execution_count": null,
   "metadata": {},
   "outputs": [],
   "source": [
    "API_ENDPOINT = \"https://reqres.in/api/register\"\n",
    "BODY = {\n",
    "    \"email\": \"sydney@fife\"\n",
    "}\n",
    " \n",
    "resp = requests.post(url = API_ENDPOINT, data = BODY) \n",
    "\n",
    "print(resp.status_code)\n",
    "  \n",
    "# sending post request and saving response as response object \n",
    "\n",
    "js = resp.json() \n",
    "print(js['error'])"
   ]
  },
  {
   "cell_type": "markdown",
   "metadata": {},
   "source": [
    "# Companies House\n",
    "A lot of APIs require a user perform 2 steps, Companies House is no exception\n",
    "\n",
    "- 1 Create a user account – user a personal email address for this\n",
    "- 2 Register your own application to use the web site\n",
    "\n",
    "Once your application is registered you will receive an API Key, this is to an application what a password is to a person.<BR>\n",
    "    \n",
    "Using the API is relatively straight forward.\n",
    "- Read the documentation\n",
    "- Decide what type of API request you want to make  \n",
    "- Use the request python package to make the request\n",
    "- Include your API Key when required\n"
   ]
  },
  {
   "cell_type": "code",
   "execution_count": null,
   "metadata": {},
   "outputs": [],
   "source": [
    "API_KEY = \"YOUR API KEY HERE\""
   ]
  },
  {
   "cell_type": "markdown",
   "metadata": {},
   "source": [
    "## Search for all companies containing the text CitiGroup\n",
    "\n",
    "Using the documemntaiton on the web site\n",
    "\n",
    "> Operation : `SearchAll`\n",
    ">\n",
    "> HTTP Verb : `GET`\n",
    ">\n",
    "> Endpoint  : `https://api.companieshouse.gov.uk/search/companies`\n",
    ">\n",
    "> Query Parameters: <BR>\n",
    ">  **q**\t _string_\t The term being searched for. <BR>\n",
    ">  **items_per_page**\t _integer_ \tThe number of search results to return per page. Optional.<BR>\n",
    ">  **start_index**\t_integer_  \tThe index of the first result item to return. Optional.<BR>\n",
    "\n",
    "\n",
    "**NOTE**\n",
    "\n",
    "Need to pass the API Key as part of an auth parameter"
   ]
  },
  {
   "cell_type": "code",
   "execution_count": null,
   "metadata": {},
   "outputs": [],
   "source": [
    "API_ENDPOINT = 'https://api.companieshouse.gov.uk/search/companies'\n",
    "\n",
    "AUTH=(API_KEY, '')\n",
    "\n",
    "PARAMS = {'q':'CitiGroup',\n",
    "          'items_per_page': 50\n",
    "}\n",
    "\n",
    "resp = requests.get(url = API_ENDPOINT, auth = AUTH, params = PARAMS) \n",
    "\n",
    "print(resp.status_code)\n",
    "\n",
    "\n",
    "# extracting data in json format \n",
    "js = resp.json() \n",
    "print(js)\n",
    "\n",
    "# Create a DataFrame to store the results\n",
    "data = js['items']\n",
    "df = pd.DataFrame(data=data)\n",
    "df"
   ]
  },
  {
   "cell_type": "markdown",
   "metadata": {},
   "source": [
    "Save the DataFrame to a an excel spreadsheet"
   ]
  },
  {
   "cell_type": "code",
   "execution_count": null,
   "metadata": {},
   "outputs": [],
   "source": [
    "writer = pd.ExcelWriter(path=\"../Output/Companies.xlsx\", engine='xlsxwriter')\n",
    "\n",
    "df.to_excel(excel_writer=writer, sheet_name='CitiGroup')\n",
    "\n",
    "writer.save()"
   ]
  },
  {
   "cell_type": "markdown",
   "metadata": {},
   "source": [
    "# Search for the company with company ID 09126122\n",
    "\n",
    "Using the documemntaiton on the web site\n",
    "\n",
    "Operation : SearchAll\n",
    "\n",
    "HTTP Verb : GET\n",
    "\n",
    "Endpoint : https://api.companieshouse.gov.uk/search/companies\n",
    "\n",
    "Query Parameters:\n",
    "q string The company id being searched for.\n",
    "items_per_page integer The number of search results to return per page. Optional.\n",
    "start_index integer The index of the first result item to return. Optional.\n",
    "\n",
    "NOTE\n",
    "\n",
    "Need to pass the API Key as part of an auth parameter"
   ]
  },
  {
   "cell_type": "code",
   "execution_count": null,
   "metadata": {},
   "outputs": [],
   "source": [
    "API_ENDPOINT = 'https://api.companieshouse.gov.uk/search/companies'\n",
    "\n",
    "AUTH=(API_KEY, '')\n",
    "\n",
    "PARAMS = {\n",
    "    'q':'09126122'\n",
    "}\n",
    "\n",
    "resp = requests.get(url = API_ENDPOINT, auth = AUTH, params = PARAMS) \n",
    "\n",
    "print(resp.status_code)\n",
    "\n",
    "\n",
    "# extracting data in json format \n",
    "js = resp.json() \n",
    "print(js)\n",
    "\n",
    "# Create a DataFrame to store the results\n",
    "data = js['items']\n",
    "df = pd.DataFrame(data=data)\n",
    "df.head()"
   ]
  },
  {
   "cell_type": "code",
   "execution_count": null,
   "metadata": {},
   "outputs": [],
   "source": []
  },
  {
   "cell_type": "code",
   "execution_count": null,
   "metadata": {},
   "outputs": [],
   "source": []
  }
 ],
 "metadata": {
  "kernelspec": {
   "display_name": "Python 3",
   "language": "python",
   "name": "python3"
  },
  "language_info": {
   "codemirror_mode": {
    "name": "ipython",
    "version": 3
   },
   "file_extension": ".py",
   "mimetype": "text/x-python",
   "name": "python",
   "nbconvert_exporter": "python",
   "pygments_lexer": "ipython3",
   "version": "3.7.4"
  }
 },
 "nbformat": 4,
 "nbformat_minor": 4
}
